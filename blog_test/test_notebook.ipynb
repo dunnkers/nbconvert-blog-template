{
 "metadata": {
  "language_info": {
   "codemirror_mode": {
    "name": "ipython",
    "version": 3
   },
   "file_extension": ".py",
   "mimetype": "text/x-python",
   "name": "python",
   "nbconvert_exporter": "python",
   "pygments_lexer": "ipython3",
   "version": "3.8.2-final"
  },
  "orig_nbformat": 2,
  "kernelspec": {
   "name": "python3",
   "display_name": "Python 3",
   "language": "python"
  }
 },
 "nbformat": 4,
 "nbformat_minor": 2,
 "cells": [
  {
   "source": [
    "# Title\n",
    "## Subtitle\n",
    "### Some tag\n",
    "\n",
    "#### Institution\n",
    "##### Authors\n",
    "###### Date"
   ],
   "cell_type": "markdown",
   "metadata": {}
  },
  {
   "source": [
    "Lorem ipsum dolor sit amet, consectetur adipiscing elit. Morbi eu commodo lectus, nec feugiat nisi. Fusce porta, mi vel pretium pretium, tellus nisl dictum nibh, eu sodales magna leo vitae sem. Aliquam ut odio sodales, sagittis diam a, cursus ipsum. Praesent sapien mi, pretium nec consectetur eu, convallis non purus. Proin dignissim leo eget lobortis euismod. Sed molestie hendrerit pharetra. Nulla eget tellus et ipsum tempor consequat et vitae leo.\n",
    "\n",
    "Donec id purus libero. Sed ut tempus lectus. Nullam sit amet maximus eros. Sed lacinia quam in mi lacinia, vel tempor libero eleifend. Aliquam vitae mi ut purus pharetra ultricies nec non mi. Nunc at elementum felis, a cursus eros. Fusce sollicitudin et risus in lobortis. Phasellus et mattis massa. Cras elementum dui imperdiet tristique aliquam. Vivamus placerat libero non nulla euismod tincidunt. Vestibulum sed mattis nisl. Integer sollicitudin tincidunt malesuada.\n",
    "\n",
    "Etiam maximus tellus malesuada tortor dictum eleifend. Donec euismod purus ligula, vitae viverra risus suscipit condimentum. Maecenas faucibus convallis tellus, eu fermentum quam. Integer placerat ligula quis auctor dignissim. Nulla sollicitudin ornare augue at pulvinar. Aliquam rhoncus nisl lacus, eget pulvinar metus elementum eget. Vestibulum nec magna sit amet ante porttitor ultrices. Maecenas rutrum porttitor tristique. Nulla tempor venenatis nulla at rutrum. Sed tristique vestibulum leo at vulputate. Phasellus eget congue eros. Proin vehicula velit eget ligula porta facilisis. In tempor tortor eu eros euismod suscipit. Fusce mattis nibh placerat nisi luctus, nec interdum nunc convallis. Vestibulum accumsan vitae justo et sollicitudin. Curabitur quis luctus est, a rhoncus diam.\n",
    "\n",
    "Sed euismod finibus ex, in venenatis purus suscipit a. Donec tincidunt pellentesque ipsum eget mollis. Sed efficitur lacus sit amet velit pretium faucibus. Proin commodo iaculis diam, sit amet mattis justo euismod nec. Phasellus a erat quis velit facilisis faucibus. Maecenas dapibus fermentum metus in cursus. Aenean luctus sapien non tellus volutpat luctus. Sed nulla est, venenatis sit amet urna at, eleifend fermentum nunc. Praesent dignissim justo ac pharetra mattis. Sed efficitur gravida leo, id bibendum mi congue ut.\n",
    "\n",
    "Vestibulum id pellentesque justo. Integer sed lobortis neque. Donec luctus in metus vel egestas. Curabitur fringilla nunc eget nisi euismod, accumsan malesuada erat fermentum. Fusce ullamcorper facilisis arcu, id volutpat lorem lacinia in. Mauris vulputate eros et leo volutpat, eget ultrices justo iaculis. Integer quis fringilla metus. Cras nisl felis, efficitur et nisl vitae, feugiat iaculis ligula. Maecenas lacinia vestibulum sem."
   ],
   "cell_type": "markdown",
   "metadata": {}
  },
  {
   "cell_type": "code",
   "execution_count": 1,
   "metadata": {},
   "outputs": [
    {
     "output_type": "execute_result",
     "data": {
      "text/plain": [
       "[1, 2, 3, 4, 5, 6]"
      ]
     },
     "metadata": {},
     "execution_count": 1
    }
   ],
   "source": [
    "a = [1, 2, 3]\n",
    "b = [4, 5, 6]\n",
    "a + b"
   ]
  }
 ]
}